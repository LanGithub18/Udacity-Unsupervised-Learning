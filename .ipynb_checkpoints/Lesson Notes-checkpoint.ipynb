{
 "cells": [
  {
   "cell_type": "markdown",
   "metadata": {
    "toc": true
   },
   "source": [
    "<h1>Table of Contents<span class=\"tocSkip\"></span></h1>\n",
    "<div class=\"toc\"><ul class=\"toc-item\"><li><span><a href=\"#Lesson-1-Clustering\" data-toc-modified-id=\"Lesson-1-Clustering-1\"><span class=\"toc-item-num\">1&nbsp;&nbsp;</span>Lesson 1 Clustering</a></span><ul class=\"toc-item\"><li><span><a href=\"#Types-of-Unsupervised-Learning\" data-toc-modified-id=\"Types-of-Unsupervised-Learning-1.1\"><span class=\"toc-item-num\">1.1&nbsp;&nbsp;</span>Types of Unsupervised Learning</a></span></li><li><span><a href=\"#K-means-algorithm\" data-toc-modified-id=\"K-means-algorithm-1.2\"><span class=\"toc-item-num\">1.2&nbsp;&nbsp;</span>K-means algorithm</a></span></li><li><span><a href=\"#Choosing-K\" data-toc-modified-id=\"Choosing-K-1.3\"><span class=\"toc-item-num\">1.3&nbsp;&nbsp;</span>Choosing K</a></span></li><li><span><a href=\"#Feature-scaling\" data-toc-modified-id=\"Feature-scaling-1.4\"><span class=\"toc-item-num\">1.4&nbsp;&nbsp;</span>Feature scaling</a></span></li><li><span><a href=\"#Concerns-with-K-means\" data-toc-modified-id=\"Concerns-with-K-means-1.5\"><span class=\"toc-item-num\">1.5&nbsp;&nbsp;</span>Concerns with K-means</a></span></li></ul></li><li><span><a href=\"#Lesson-2-Hiearchical-and-Density-Based-Clustering\" data-toc-modified-id=\"Lesson-2-Hiearchical-and-Density-Based-Clustering-2\"><span class=\"toc-item-num\">2&nbsp;&nbsp;</span>Lesson 2 Hiearchical and Density Based Clustering</a></span><ul class=\"toc-item\"><li><span><a href=\"#Hiearchical-clustering\" data-toc-modified-id=\"Hiearchical-clustering-2.1\"><span class=\"toc-item-num\">2.1&nbsp;&nbsp;</span>Hiearchical clustering</a></span><ul class=\"toc-item\"><li><span><a href=\"#Single-link-clustering\" data-toc-modified-id=\"Single-link-clustering-2.1.1\"><span class=\"toc-item-num\">2.1.1&nbsp;&nbsp;</span>Single link clustering</a></span></li><li><span><a href=\"#Other-hiearchical-clustering\" data-toc-modified-id=\"Other-hiearchical-clustering-2.1.2\"><span class=\"toc-item-num\">2.1.2&nbsp;&nbsp;</span>Other hiearchical clustering</a></span></li></ul></li><li><span><a href=\"#Density-Clustering-(DBSCAN)\" data-toc-modified-id=\"Density-Clustering-(DBSCAN)-2.2\"><span class=\"toc-item-num\">2.2&nbsp;&nbsp;</span>Density Clustering (DBSCAN)</a></span></li></ul></li><li><span><a href=\"#Lesson-3-Gaussian-Mixture-model-clustering\" data-toc-modified-id=\"Lesson-3-Gaussian-Mixture-model-clustering-3\"><span class=\"toc-item-num\">3&nbsp;&nbsp;</span>Lesson 3 Gaussian Mixture model clustering</a></span><ul class=\"toc-item\"><li><span><a href=\"#Gaussian-Mixture-Model-(GMM)-Clustering\" data-toc-modified-id=\"Gaussian-Mixture-Model-(GMM)-Clustering-3.1\"><span class=\"toc-item-num\">3.1&nbsp;&nbsp;</span>Gaussian Mixture Model (GMM) Clustering</a></span></li><li><span><a href=\"#Expectation-Maximization-(EM)-Algorithm\" data-toc-modified-id=\"Expectation-Maximization-(EM)-Algorithm-3.2\"><span class=\"toc-item-num\">3.2&nbsp;&nbsp;</span>Expectation Maximization (EM) Algorithm</a></span></li><li><span><a href=\"#Applications\" data-toc-modified-id=\"Applications-3.3\"><span class=\"toc-item-num\">3.3&nbsp;&nbsp;</span>Applications</a></span></li><li><span><a href=\"#Cluster-Analysis\" data-toc-modified-id=\"Cluster-Analysis-3.4\"><span class=\"toc-item-num\">3.4&nbsp;&nbsp;</span>Cluster Analysis</a></span></li><li><span><a href=\"#Cluster-validation\" data-toc-modified-id=\"Cluster-validation-3.5\"><span class=\"toc-item-num\">3.5&nbsp;&nbsp;</span>Cluster validation</a></span><ul class=\"toc-item\"><li><span><a href=\"#External-indices\" data-toc-modified-id=\"External-indices-3.5.1\"><span class=\"toc-item-num\">3.5.1&nbsp;&nbsp;</span>External indices</a></span></li><li><span><a href=\"#Internal-indices\" data-toc-modified-id=\"Internal-indices-3.5.2\"><span class=\"toc-item-num\">3.5.2&nbsp;&nbsp;</span>Internal indices</a></span></li></ul></li></ul></li><li><span><a href=\"#Lesson-4-Dimension-reduction-and-Principle-component-analysis-(PCA)\" data-toc-modified-id=\"Lesson-4-Dimension-reduction-and-Principle-component-analysis-(PCA)-4\"><span class=\"toc-item-num\">4&nbsp;&nbsp;</span>Lesson 4 Dimension reduction and Principle component analysis (PCA)</a></span></li><li><span><a href=\"#Lesson-5--Random-Projection-and-ICA\" data-toc-modified-id=\"Lesson-5--Random-Projection-and-ICA-5\"><span class=\"toc-item-num\">5&nbsp;&nbsp;</span>Lesson 5  Random Projection and ICA</a></span><ul class=\"toc-item\"><li><span><a href=\"#Random-Projection\" data-toc-modified-id=\"Random-Projection-5.1\"><span class=\"toc-item-num\">5.1&nbsp;&nbsp;</span>Random Projection</a></span></li><li><span><a href=\"#Independent-Component-Analysis\" data-toc-modified-id=\"Independent-Component-Analysis-5.2\"><span class=\"toc-item-num\">5.2&nbsp;&nbsp;</span>Independent Component Analysis</a></span></li></ul></li></ul></div>"
   ]
  },
  {
   "cell_type": "markdown",
   "metadata": {},
   "source": [
    "# Lesson 1 Clustering\n",
    "\n"
   ]
  },
  {
   "cell_type": "markdown",
   "metadata": {},
   "source": [
    "## Types of Unsupervised Learning\n",
    "\n",
    "1. Clustering: group data based on similarities\n",
    "2. Dimension Reduction: reduce the dimension of large number of features to smaller ones.\n",
    "    "
   ]
  },
  {
   "cell_type": "markdown",
   "metadata": {},
   "source": [
    "## K-means algorithm\n",
    "\n",
    "- Application\n",
    "    book, movie, music, groups of customers\n",
    "- K means the number of clusters"
   ]
  },
  {
   "cell_type": "code",
   "execution_count": 3,
   "metadata": {},
   "outputs": [],
   "source": [
    "import numpy as np\n",
    "import matplotlib.pyplot as plt\n",
    "from mpl_toolkits.mplot3d import Axes3D\n",
    "from sklearn.cluster import KMeans\n",
    "from sklearn.datasets import make_blobs\n",
    "from IPython import display"
   ]
  },
  {
   "cell_type": "markdown",
   "metadata": {},
   "source": [
    "## Choosing K\n",
    "\n",
    "It can be determined by different methods.\n",
    "\n",
    "1. Plot the data and observe directly\n",
    "2. Prior knowledge and set K \n",
    "3. Elbow Method\n",
    "    - It is useful when no knowledge before the data is collected. \n",
    "    - Exam the average distance from the K centers while changing K.\n",
    "    - Choose the K at the *elbow*\n",
    "    \n",
    "`KMeans(2).fit(data).score(data)`\n",
    "`KMeans(2).fit(data).predict(data)`\n",
    "\n",
    "**It is possible to have different clustering decision with the same number of centroids.**\n",
    "\n",
    "1. Randomly assign the centroids\n",
    "2. Assign points to the nearest centroid\n",
    "3. Move centroid nearer to the points.\n"
   ]
  },
  {
   "cell_type": "markdown",
   "metadata": {},
   "source": [
    "## Feature scaling\n",
    "\n",
    "1. Standardize: z-score scaling\n",
    "   - Used in clustering algorithm\n",
    "\n",
    "2. Normalizing: min-max scaling\n",
    "   - Scale the color data of image\n",
    "   \n",
    "   \n",
    "**The scales of the features will affect the clustering decision**\n",
    "\n",
    "**With any distance based machine learning model (regularized regression methods, neural networks, and now kmeans), you will want to scale your data **\n"
   ]
  },
  {
   "cell_type": "markdown",
   "metadata": {},
   "source": [
    "`from sklearn import preprocessing as p`\n",
    "\n",
    "`df_ss = p.StandardScaler().fit_transform(df)`\n",
    "\n",
    "`df_ss = pd.DataFrame(df_ss) `\n",
    "\n",
    "`df_ss.columns = ['height', 'weight']`\n",
    "\n",
    "\n"
   ]
  },
  {
   "cell_type": "markdown",
   "metadata": {},
   "source": [
    "## Concerns with K-means\n",
    "\n",
    "1. The random placement of the centroids may lead to non-optimal solutions\n",
    "\n",
    "    **Use repeated runs to protect against local minima.**\n",
    "    \n",
    "    \n",
    "2. Scales of the data may affect the clustering decision\n",
    "    **Feature scaling**"
   ]
  },
  {
   "cell_type": "markdown",
   "metadata": {},
   "source": [
    "# Lesson 2 Hiearchical and Density Based Clustering\n",
    "\n",
    "**Conerns about K-means**\n",
    "<img src=\"ConcersAboutKmeans.png\">\n",
    "It is the sideeffect of the K-means relying on the distance as the measure.\n",
    "\n",
    "**Solution**\n",
    "\n"
   ]
  },
  {
   "cell_type": "markdown",
   "metadata": {},
   "source": [
    "## Hiearchical clustering\n",
    "\n",
    "### Single link clustering\n",
    "\n",
    "1. Take each point as a single cluster\n",
    "2. Connect the nearest two points and create the first cluster\n",
    "3. Connect other nearest two points and create clusters for them\n",
    "4. Add new point into a exsiting cluster whose closet point to the cluster is the smallest one.\n",
    "5. Repeat this process, the hiearchical trees will cover all the points\n",
    "6. This is called the Dendrogram\n",
    "7. Find the clusters by cutting the tree.\n",
    "\n",
    "*Comparison with K-means*\n",
    "\n",
    "**K-means**: uniformly distributed data; Some clusters with different density but still kind of uniformly distributed; well separated data set\n",
    "\n",
    "**Single-link**: two crescents; two rings; well separated data set\n",
    "\n",
    "**Dendrogram is valuable** to visualize the clustering in the data set especially if the data is in high dimensions.\n",
    "\n",
    "\n"
   ]
  },
  {
   "cell_type": "markdown",
   "metadata": {},
   "source": [
    "### Other hiearchical clustering\n",
    "\n",
    "Agglomerative clustering \n",
    "\n",
    "Distance measures are different.\n",
    "\n",
    "1. Complete link clustering\n",
    "At step 4 in the single link clustering, check the farthest point inside the existing clusters to determine the cluster to join.\n",
    "\n",
    "2. Average link clustering\n",
    "Averaging the distances.\n",
    "3. Ward's Method (default method in scikitlearn)\n",
    "Find a central point between two clusters.\n",
    "Add square of distance between every point to the center point and minus the sum of the square of the distance between point in one cluster and the central point inside this cluster.\n"
   ]
  },
  {
   "cell_type": "code",
   "execution_count": 3,
   "metadata": {},
   "outputs": [],
   "source": [
    "from sklearn import datasets, cluster\n",
    "\n",
    "x = datasets.load_iris().data[:10]\n",
    "\n",
    "clust = cluster.AgglomerativeClustering(n_clusters = 3, linkage = 'ward')\n",
    "\n",
    "#Note the linkage can be : 'complete', 'average' too\n",
    "labels = clust.fit_predict(x)"
   ]
  },
  {
   "cell_type": "code",
   "execution_count": 5,
   "metadata": {
    "scrolled": true
   },
   "outputs": [
    {
     "data": {
      "image/png": "[encoded data removed]",
      "text/plain": [
       "<Figure size 432x288 with 1 Axes>"
      ]
     },
     "metadata": {
      "needs_background": "light"
     },
     "output_type": "display_data"
    }
   ],
   "source": [
    "from scipy.cluster.hierarchy import dendrogram, ward, single\n",
    "\n",
    "from sklearn import datasets\n",
    "\n",
    "import matplotlib.pyplot as plt\n",
    "\n",
    "X = datasets.load_iris().data[:10]\n",
    "\n",
    "linkage_matrix = ward(X)\n",
    "\n",
    "dendrogram(linkage_matrix)\n",
    "plt.show()"
   ]
  },
  {
   "cell_type": "markdown",
   "metadata": {},
   "source": [
    "*Advantage and Disadvantage of HC*\n",
    "    \n",
    "Advantage:\n",
    "1. Hiearchical representations are very informative\n",
    "2. Provide additional visualization\n",
    "\n",
    "Disadvange:\n",
    "1. Sensitive to noises and outliers\n",
    "2. Computational intensive O(N^2)"
   ]
  },
  {
   "cell_type": "markdown",
   "metadata": {},
   "source": [
    "## Density Clustering (DBSCAN)\n",
    "\n",
    "It grips the points close to each other.\n",
    "Not every point is identified as clusters. Some of them are identified as noise.\n",
    "\n",
    "1. Starts from a random point.\n",
    "2. Check neighbors with distance $\\epsilon$\n",
    "    - Are there any point?\n",
    "        If no, then this point is taken as noise\n",
    "        If yes, are there greater than MinPts? If no, then noise.\n",
    "3. Identify the core point and clusters\n",
    "4. check other points in this cluster whether they are border point or core point\n",
    "5. The cluster becomes larger with new core points found in the same cluster.\n",
    "\n",
    "DBSCAN:\n",
    "    1. two crescents\n",
    "    2. two rings\n",
    "    3. elongated shapes\n",
    "\n"
   ]
  },
  {
   "cell_type": "code",
   "execution_count": 6,
   "metadata": {},
   "outputs": [
    {
     "data": {
      "text/plain": [
       "DBSCAN(algorithm='auto', eps=0.5, leaf_size=30, metric='euclidean',\n",
       "       metric_params=None, min_samples=5, n_jobs=None, p=None)"
      ]
     },
     "execution_count": 6,
     "metadata": {},
     "output_type": "execute_result"
    }
   ],
   "source": [
    "from sklearn import datasets, cluster\n",
    "\n",
    "X = datasets.load_iris().data\n",
    "\n",
    "db = cluster.DBSCAN(eps = 0.5, min_samples = 5)\n",
    "\n",
    "db.fit(X)"
   ]
  },
  {
   "cell_type": "markdown",
   "metadata": {},
   "source": [
    "Advantage:\n",
    "    1. No need to specify the number of clusters\n",
    "    2. Flexible shapes\n",
    "    3. It can deal with noise and outliers\n",
    "    \n",
    "Disadvantage: \n",
    "    1. Border points taht are reachable from two clusters\n",
    "    2. Faces difficulty finding clusters of varying densities.\n",
    "    "
   ]
  },
  {
   "cell_type": "markdown",
   "metadata": {},
   "source": [
    "# Lesson 3 Gaussian Mixture model clustering\n",
    "\n",
    "Every points will belong to one of the clusters but have different level of membership.\n",
    "\n",
    "It works really well on the data sets having elongated shapes.\n",
    "\n"
   ]
  },
  {
   "cell_type": "markdown",
   "metadata": {},
   "source": [
    "## Gaussian Mixture Model (GMM) Clustering\n",
    "\n",
    "The clusters are described by different gaussian distributions.\n"
   ]
  },
  {
   "cell_type": "markdown",
   "metadata": {},
   "source": [
    "## Expectation Maximization (EM) Algorithm\n",
    "\n",
    "1. Initialize K Gaussian distribution\n",
    "    - Give initial mean and standard deviation\n",
    "          a. estimate the mean and std for all data\n",
    "          b. run K-means and initialize the mean and standard deviation\n",
    "2. Soft-cluster data \"expectation\"\n",
    "    - pdf(cluster1)/(pdf(cluster1) + pdf(cluster2))\n",
    "   \n",
    "3. re-estimate the gaussians \"maximization\"\n",
    "    - use weighted average of soft-cluster mean\n",
    "    - use weighted variance of soft-cluster variance\n",
    "4. evaluate the log-likelihood to check for the convergence\n",
    "    -how to choose the mixing coefficient??\n",
    "5. Go back to step 2 if not converging yet.\n",
    "\n",
    "**Covariance-type** also affect the shape of the clusters. Use covariance matrix to do this.\n",
    "\n"
   ]
  },
  {
   "cell_type": "code",
   "execution_count": 8,
   "metadata": {},
   "outputs": [],
   "source": [
    "from sklearn import datasets, mixture\n",
    "X = datasets.load_iris().data[:10]\n",
    "gmm = mixture.GaussianMixture(n_components = 3)\n",
    "gmm.fit(X)\n",
    "\n",
    "clustering = gmm.predict(X)"
   ]
  },
  {
   "cell_type": "markdown",
   "metadata": {},
   "source": [
    "## Applications\n",
    "\n",
    "Adavantages:\n",
    "    1. Soft-clustring (sample membership)\n",
    "    2. Flexible cluster shape\n",
    "Disadvantages:\n",
    "    1. Sensitive to initial values\n",
    "    2. Converge slow and may end up with local optimal solution\n",
    "    "
   ]
  },
  {
   "cell_type": "markdown",
   "metadata": {},
   "source": [
    "## Cluster Analysis\n",
    "\n",
    "1. Data\n",
    "2. Feature selection; Feature extraction\n",
    "3. Clustering algorithm and tuning\n",
    "4. Cluster Validation\n",
    "5. Results interpretation\n",
    "6. Knowledge"
   ]
  },
  {
   "cell_type": "markdown",
   "metadata": {},
   "source": [
    "## Cluster validation\n",
    "\n",
    "Categories of cluster validation indices:\n",
    "\n",
    "1. External indices: if the data is originally labeled.\n",
    "2. Internal indices: No labels\n",
    "3. Relative indices\n",
    "\n",
    "Indices are defined by compactness and separability."
   ]
  },
  {
   "cell_type": "markdown",
   "metadata": {},
   "source": [
    "### External indices\n",
    "External indices require labels.\n",
    "Let C indicate the clusters with true labels and K indicate the clusters in the result.\n",
    "\n",
    "1. Adjusted rand score (sklearn) [-1,1]\n",
    "    $$\n",
    "    Rand Index = \\frac{a+b}{\\binom n 2}\n",
    "    $$\n",
    "  Random assignment: ARI close to 0\n",
    "  Good clustering: ARI close to 1\n",
    "a is the number of pairs in the same cluster C remains in the same cluster in K\n",
    "b is the number of pairs in different clusters in C remains in different clusters in K.\n",
    "2. Fawlks and Mallows (sklearn)\n",
    "3. NMI measure (sklearn)\n",
    "4. Jaccard (sklearn)\n",
    "5. F-measure (sklearn)\n",
    "6. Purity"
   ]
  },
  {
   "cell_type": "markdown",
   "metadata": {},
   "source": [
    "### Internal indices\n",
    "\n",
    "1. Silhouette index (sklearn) [-1,1]\n",
    "    $$\n",
    "    \\text{silhouette coefficient }= \\frac{b_i - a_i}{\\max (a_i, b_i)}\n",
    "    $$\n",
    "    $a_i$ is the average distance to other samples in the same clsuter\n",
    "    $b_i$ is the average distance to samples in the closest neighboring cluster\n",
    "    $$\n",
    "    S = average(S_1, S_2, ....)\n",
    "    $$\n",
    "    \n",
    "**When to use?**\n",
    "1. S vs number of clusters\n",
    "2. S vs clustering algorithm\n",
    "\n",
    "    **Silhoutte score should not** be used in DBSCAN, because this score does not have the concept of noise.\n",
    "\n",
    "    **If the dataset is two rings**, silhoutte score should not be used, because the score is built to carving out more compact and dense clusters.\n",
    "    \n",
    "2. Calinski-Harabasz (sklearn)\n",
    "\n",
    "3. BIC\n",
    "\n",
    "4. Dunn Index"
   ]
  },
  {
   "cell_type": "markdown",
   "metadata": {},
   "source": [
    "# Lesson 4 Dimension reduction and Principle component analysis (PCA)\n",
    "\n",
    "1. Dimension reduction through feature selection/extraction\n",
    "2. PCA\n",
    "3. Fitting\n",
    "4. Interpret\n",
    "\n",
    "**Feature selection**\n",
    "\n",
    "Feature selection is to find a subset of original features.\n",
    "\n",
    "1. Filter methods\n",
    "    This method filters out features with weak correlations according to  Pearson's correlation, Linear Discriminant Analysis (LDA) and Analysis of Variance (ANOVA)\n",
    "\n",
    "    LASSO regression method in supervised learning embeds the property of feature selection.\n",
    "\n",
    "2. Wrapper methods\n",
    "    This selects features by cross-validating algorithm with different subsets of features.\n",
    "    It includes: Forward Search, Backward Search, Recursive Feature Elimination.\n"
   ]
  },
  {
   "cell_type": "markdown",
   "metadata": {},
   "source": [
    "**Feature extraction**\n",
    "\n",
    "It creates new *latent features* combining the information of the orinigal features.\n",
    "\n",
    "1. PCA\n",
    "2. Independent Component Analysis (ICA)\n",
    "3. Random Projection"
   ]
  },
  {
   "cell_type": "code",
   "execution_count": null,
   "metadata": {},
   "outputs": [],
   "source": [
    "## PCA properties\n",
    "\n",
    "1. Each component captures the largest amount of variance left in the data\n",
    "2. Components are orthogonal to each other"
   ]
  },
  {
   "cell_type": "markdown",
   "metadata": {},
   "source": [
    "# Lesson 5  Random Projection and ICA\n",
    "\n",
    "## Random Projection\n",
    "Random projection is more computationally efficient than PCA.\n",
    "\n",
    "Multiply the dataset by a random matrix which projects the dataset from d dimension to a lower k dimension.\n",
    "\n",
    "This is based on *Johnson-linderstrauss lemma:*\n",
    "    \n",
    "    \n",
    "    projection in a way that preserves the distrance between the points to a large degree.\n",
    "\n",
    "\n",
    "How to preserve?\n",
    "\n",
    "    The distance between the projected points wil be in an interval as follows, \n",
    "\n",
    "$$\n",
    "(1-\\epsilon) ||u - v||^2, (1+\\epsilon)||u-v||^2\n",
    "$$\n",
    "\n",
    "*The number of components is optional and can be computed by the algorithm based on the given $\\epsilon$*\n"
   ]
  },
  {
   "cell_type": "markdown",
   "metadata": {},
   "source": [
    "**Random Projection in skleanr**\n",
    "\n",
    "```\n",
    "from sklearn import random_projection\n",
    "\n",
    "rp = random_projection.SparseRandomProjection()\n",
    "new_X = rp.fit_transform(X)\n",
    "```"
   ]
  },
  {
   "cell_type": "markdown",
   "metadata": {},
   "source": [
    "## Independent Component Analysis\n",
    "\n",
    "ICA assumes the data is the mixture of several independent sources\n",
    "and it tries to isolate these sources.\n",
    "\n",
    "ICA solves a kind of problem which is called blind-source separation.\n",
    "\n",
    "Let $X$ denote the data, $A$ denote the mixing matrix, $S$ the source data and $W$ denote the inverse of $A$.\n",
    "\n",
    "Then ICA algorithm solves the inverse of the matrix A to separate the original source S.\n",
    "$$\n",
    "S = W X\n",
    "$$\n",
    "\n",
    "*Assumptions of ICA:*\n",
    "    \n",
    "1. Components are independent\n",
    "2. Components were non-Gaussian \n",
    "3. CLT convergence to Gaussian\n"
   ]
  },
  {
   "cell_type": "markdown",
   "metadata": {},
   "source": [
    "```\n",
    "from sklearn.decomposition import FastICA\n",
    "ica = FastICA(n_components = 3)\n",
    "components= ica.fit_transform(data)\n",
    "```"
   ]
  },
  {
   "cell_type": "code",
   "execution_count": null,
   "metadata": {},
   "outputs": [],
   "source": []
  }
 ],
 "metadata": {
  "kernelspec": {
   "display_name": "Python 3",
   "language": "python",
   "name": "python3"
  },
  "language_info": {
   "codemirror_mode": {
    "name": "ipython",
    "version": 3
   },
   "file_extension": ".py",
   "mimetype": "text/x-python",
   "name": "python",
   "nbconvert_exporter": "python",
   "pygments_lexer": "ipython3",
   "version": "3.7.6"
  },
  "toc": {
   "base_numbering": 1,
   "nav_menu": {},
   "number_sections": true,
   "sideBar": true,
   "skip_h1_title": false,
   "title_cell": "Table of Contents",
   "title_sidebar": "Contents",
   "toc_cell": true,
   "toc_position": {},
   "toc_section_display": true,
   "toc_window_display": false
  }
 },
 "nbformat": 4,
 "nbformat_minor": 4
}
